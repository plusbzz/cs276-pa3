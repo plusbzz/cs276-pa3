{
 "metadata": {
  "name": "pa3_play"
 },
 "nbformat": 3,
 "nbformat_minor": 0,
 "worksheets": [
  {
   "cells": [
    {
     "cell_type": "code",
     "collapsed": false,
     "input": [
      "from rank0 import *\n",
      "from doc_utils import *"
     ],
     "language": "python",
     "metadata": {},
     "outputs": [],
     "prompt_number": 1
    },
    {
     "cell_type": "code",
     "collapsed": false,
     "input": [
      "(q,f) = extractFeatures(\"queryDocTrainData\")"
     ],
     "language": "python",
     "metadata": {},
     "outputs": [],
     "prompt_number": 41
    },
    {
     "cell_type": "code",
     "collapsed": false,
     "input": [
      "corpus = CorpusInfo(\"data\")\n",
      "corpus.load_doc_freqs()"
     ],
     "language": "python",
     "metadata": {},
     "outputs": [
      {
       "output_type": "stream",
       "stream": "stderr",
       "text": [
        "Loading IDF from file\n"
       ]
      }
     ],
     "prompt_number": 48
    },
    {
     "cell_type": "code",
     "collapsed": false,
     "input": [
      "qry = 'stanford cs stanford cs courses stanford ee stanford ee courses ee364a stanford'"
     ],
     "language": "python",
     "metadata": {},
     "outputs": [],
     "prompt_number": 42
    },
    {
     "cell_type": "code",
     "collapsed": false,
     "input": [
      "query = Query(qry,f[qry],corpus)"
     ],
     "language": "python",
     "metadata": {},
     "outputs": [],
     "prompt_number": 49
    },
    {
     "cell_type": "code",
     "collapsed": false,
     "input": [
      "query.tf_vector"
     ],
     "language": "python",
     "metadata": {},
     "outputs": [
      {
       "output_type": "pyout",
       "prompt_number": 50,
       "text": [
        "{'courses': -4.483472978494646,\n",
        " 'cs': -7.153247009769299,\n",
        " 'ee': -9.337512578483546,\n",
        " 'ee364a': -8.006357466589131,\n",
        " 'stanford': -1.647873983558652}"
       ]
      }
     ],
     "prompt_number": 50
    },
    {
     "cell_type": "code",
     "collapsed": false,
     "input": [
      "Document.logify(query.tf_vector)"
     ],
     "language": "python",
     "metadata": {},
     "outputs": [
      {
       "output_type": "pyout",
       "prompt_number": 46,
       "text": [
        "{'courses': 1.6931471805599454,\n",
        " 'cs': 1.6931471805599454,\n",
        " 'ee': 1.6931471805599454,\n",
        " 'ee364a': 1.0,\n",
        " 'stanford': 2.6094379124341005}"
       ]
      }
     ],
     "prompt_number": 46
    },
    {
     "cell_type": "code",
     "collapsed": false,
     "input": [
      "for a in qp.anchors: print a.text"
     ],
     "language": "python",
     "metadata": {},
     "outputs": [
      {
       "output_type": "stream",
       "stream": "stdout",
       "text": [
        "stanford lively arts\n",
        "lively arts stanford live\n",
        "stanford live website\n",
        "live stanford edu\n",
        "stanford livelyarts\n",
        "stanford lively art\n",
        "stanford lively arts 2010 11 season tickets on sale soon\n",
        "stanford lively arts website\n",
        "http livelyarts stanford edu\n",
        "stanford live\n",
        "livelyarts stanford edu\n",
        "stanford lively arts 2010 11 season tickets on sale now\n",
        "visit the stanford lively arts website\n",
        "stanford lively arts schedule\n",
        "stanford events through the ticket office\n",
        "ttp livelyarts stanford edu\n",
        "stanford university lively arts\n",
        "terence blanchard quintet and stanford symphony orchestra requiem for katrina march 06 2010 8 00pm memorial\n",
        "stanford lively arts great performances with student discounts\n",
        "http live stanford edu\n",
        "lively arts at stanford\n",
        "stanford livey arts\n",
        "stanford lively arts program\n"
       ]
      }
     ],
     "prompt_number": 30
    },
    {
     "cell_type": "code",
     "collapsed": false,
     "input": [
      "qp.field_tf_vectors['anchor']"
     ],
     "language": "python",
     "metadata": {},
     "outputs": [
      {
       "output_type": "pyout",
       "prompt_number": 38,
       "text": [
        "{'00pm': 0.004219409282700422,\n",
        " '06': 0.004219409282700422,\n",
        " '11': 0.008438818565400843,\n",
        " '2010': 0.012658227848101266,\n",
        " '8': 0.004219409282700422,\n",
        " 'and': 0.004219409282700422,\n",
        " 'art': 0.004219409282700422,\n",
        " 'arts': 0.9578059071729957,\n",
        " 'at': 0.04219409282700422,\n",
        " 'blanchard': 0.004219409282700422,\n",
        " 'discounts': 0.004219409282700422,\n",
        " 'edu': 0.8776371308016878,\n",
        " 'events': 0.012658227848101266,\n",
        " 'for': 0.004219409282700422,\n",
        " 'great': 0.004219409282700422,\n",
        " 'http': 0.8565400843881856,\n",
        " 'katrina': 0.004219409282700422,\n",
        " 'live': 0.9113924050632911,\n",
        " 'lively': 0.9493670886075949,\n",
        " 'livelyarts': 0.8818565400843882,\n",
        " 'livey': 0.012658227848101266,\n",
        " 'march': 0.004219409282700422,\n",
        " 'memorial': 0.004219409282700422,\n",
        " 'now': 0.004219409282700422,\n",
        " 'office': 0.012658227848101266,\n",
        " 'on': 0.008438818565400843,\n",
        " 'orchestra': 0.004219409282700422,\n",
        " 'performances': 0.004219409282700422,\n",
        " 'program': 0.004219409282700422,\n",
        " 'quintet': 0.004219409282700422,\n",
        " 'requiem': 0.004219409282700422,\n",
        " 'sale': 0.008438818565400843,\n",
        " 'schedule': 0.004219409282700422,\n",
        " 'season': 0.008438818565400843,\n",
        " 'soon': 0.004219409282700422,\n",
        " 'stanford': 2.7637130801687766,\n",
        " 'student': 0.004219409282700422,\n",
        " 'symphony': 0.004219409282700422,\n",
        " 'terence': 0.004219409282700422,\n",
        " 'the': 0.016877637130801686,\n",
        " 'through': 0.012658227848101266,\n",
        " 'ticket': 0.012658227848101266,\n",
        " 'tickets': 0.008438818565400843,\n",
        " 'ttp': 0.004219409282700422,\n",
        " 'university': 0.004219409282700422,\n",
        " 'visit': 0.004219409282700422,\n",
        " 'website': 0.012658227848101266,\n",
        " 'with': 0.004219409282700422}"
       ]
      }
     ],
     "prompt_number": 38
    },
    {
     "cell_type": "code",
     "collapsed": false,
     "input": [
      "qp.anchors"
     ],
     "language": "python",
     "metadata": {},
     "outputs": [
      {
       "output_type": "pyout",
       "prompt_number": 39,
       "text": [
        "[<doc_utils.Anchor at 0x1022975d0>,\n",
        " <doc_utils.Anchor at 0x102297410>,\n",
        " <doc_utils.Anchor at 0x102297610>,\n",
        " <doc_utils.Anchor at 0x102297650>,\n",
        " <doc_utils.Anchor at 0x102297690>,\n",
        " <doc_utils.Anchor at 0x1022976d0>,\n",
        " <doc_utils.Anchor at 0x102297710>,\n",
        " <doc_utils.Anchor at 0x102297790>,\n",
        " <doc_utils.Anchor at 0x102297810>,\n",
        " <doc_utils.Anchor at 0x102297c10>,\n",
        " <doc_utils.Anchor at 0x102297e90>,\n",
        " <doc_utils.Anchor at 0x102297c90>,\n",
        " <doc_utils.Anchor at 0x102297a10>,\n",
        " <doc_utils.Anchor at 0x10229e050>,\n",
        " <doc_utils.Anchor at 0x10229e090>,\n",
        " <doc_utils.Anchor at 0x10229e0d0>,\n",
        " <doc_utils.Anchor at 0x10229e110>,\n",
        " <doc_utils.Anchor at 0x10229e150>,\n",
        " <doc_utils.Anchor at 0x10229e190>,\n",
        " <doc_utils.Anchor at 0x10229e1d0>,\n",
        " <doc_utils.Anchor at 0x10229e210>,\n",
        " <doc_utils.Anchor at 0x10229e250>,\n",
        " <doc_utils.Anchor at 0x10229e290>]"
       ]
      }
     ],
     "prompt_number": 39
    },
    {
     "cell_type": "code",
     "collapsed": false,
     "input": [
      "words = reduce(lambda x,h: x+h.strip().lower().split(),qp.header,[])\n",
      "tf1=Document.compute_tf_norm_vector(words,1)\n",
      "words = qp.title.lower().strip().split() \n",
      "tf2=Document.compute_tf_norm_vector(words,1)\n",
      "tf1,tf2"
     ],
     "language": "python",
     "metadata": {},
     "outputs": [
      {
       "output_type": "pyout",
       "prompt_number": 17,
       "text": [
        "({'department': 1.0,\n",
        "  'in': 1.0,\n",
        "  'latest': 1.0,\n",
        "  'math': 2.0,\n",
        "  'publications': 1.0,\n",
        "  'stanford': 1.0},\n",
        " {'department': 1.0,\n",
        "  'mathematics': 1.0,\n",
        "  'of': 1.0,\n",
        "  'stanford': 1.0,\n",
        "  'university': 1.0})"
       ]
      }
     ],
     "prompt_number": 17
    },
    {
     "cell_type": "code",
     "collapsed": false,
     "input": [
      "query.tf_vector"
     ],
     "language": "python",
     "metadata": {},
     "outputs": [
      {
       "output_type": "pyout",
       "prompt_number": 40,
       "text": [
        "{'live': 1.0, 'stanford': 1.0}"
       ]
      }
     ],
     "prompt_number": 40
    },
    {
     "cell_type": "code",
     "collapsed": false,
     "input": [
      "2/35.0"
     ],
     "language": "python",
     "metadata": {},
     "outputs": [
      {
       "output_type": "pyout",
       "prompt_number": 21,
       "text": [
        "0.05714285714285714"
       ]
      }
     ],
     "prompt_number": 21
    },
    {
     "cell_type": "code",
     "collapsed": false,
     "input": [],
     "language": "python",
     "metadata": {},
     "outputs": []
    }
   ],
   "metadata": {}
  }
 ]
}