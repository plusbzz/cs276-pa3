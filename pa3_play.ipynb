{
 "metadata": {
  "name": "pa3_play"
 },
 "nbformat": 3,
 "nbformat_minor": 0,
 "worksheets": [
  {
   "cells": [
    {
     "cell_type": "code",
     "collapsed": false,
     "input": [
      "from rank0 import *\n",
      "from doc_utils import *"
     ],
     "language": "python",
     "metadata": {},
     "outputs": [],
     "prompt_number": 2
    },
    {
     "cell_type": "code",
     "collapsed": false,
     "input": [
      "(q,f) = extractFeatures(\"trainQD\")"
     ],
     "language": "python",
     "metadata": {},
     "outputs": [],
     "prompt_number": 3
    },
    {
     "cell_type": "code",
     "collapsed": false,
     "input": [
      "qp = f['manning']"
     ],
     "language": "python",
     "metadata": {},
     "outputs": [],
     "prompt_number": 6
    },
    {
     "cell_type": "code",
     "collapsed": false,
     "input": [
      "class Anchor(object):\n",
      "    def __init__(self,anchor_text,anchor_count):\n",
      "        self.text = anchor_text\n",
      "        self.count = anchor_count\n",
      "        \n",
      "class Page(object):\n",
      "    def __init__(self,page,page_fields):\n",
      "        self.url = page\n",
      "        self.body_length = page_fields.get('body_length',0)\n",
      "        self.pagerank = page_fields.get('pagerank',0)\n",
      "        self.title = page_fields.get('title',\"\")\n",
      "        self.body_hits = page_fields.get('body_hits',0)\n",
      "        self.anchors = [Anchor(text,count) for text,count in page_fields.get('anchors',{}).iteritems()]\n",
      "        \n",
      "        \n",
      "class Query(object):\n",
      "    def __init__(self,query,query_pages):  # query_pages : query -> urls\n",
      "        self.query = query\n",
      "        self.pages = dict([(p,Page(p,v)) for p,v in query_pages.iteritems()]) # URLs\n"
     ],
     "language": "python",
     "metadata": {},
     "outputs": [],
     "prompt_number": 18
    },
    {
     "cell_type": "code",
     "collapsed": false,
     "input": [
      "query = Query('manning',qp)"
     ],
     "language": "python",
     "metadata": {},
     "outputs": [],
     "prompt_number": 19
    },
    {
     "cell_type": "code",
     "collapsed": false,
     "input": [
      "query.pages"
     ],
     "language": "python",
     "metadata": {},
     "outputs": [
      {
       "output_type": "pyout",
       "prompt_number": 24,
       "text": [
        "{'http://cyberlaw.stanford.edu/page/manning-faculty-lounge': <__main__.Page at 0x1024c26d0>,\n",
        " 'http://engineering.stanford.edu/node/9067': <__main__.Page at 0x1024c27d0>,\n",
        " 'http://explorecourses.stanford.edu/instructor/manning': <__main__.Page at 0x1024c2510>,\n",
        " 'http://nlp.stanford.edu/jrfinkel/': <__main__.Page at 0x1024c2810>,\n",
        " 'http://nlp.stanford.edu/pubs/CICLing2011-manning-tagging.pdf': <__main__.Page at 0x1024c2850>,\n",
        " 'http://nlp.stanford.edu/~manning/': <__main__.Page at 0x1024c2290>,\n",
        " 'http://nlp.stanford.edu/~manning/papers/': <__main__.Page at 0x1024c28d0>,\n",
        " 'http://online.stanford.edu/instructors/christopher-manning': <__main__.Page at 0x1024c2950>,\n",
        " 'http://www.stanford.edu/class/cs224n/': <__main__.Page at 0x1024c2a50>,\n",
        " 'https://stanfordwho.stanford.edu/lookup?search=Chris%20Manning&submit=Search': <__main__.Page at 0x1024c2650>}"
       ]
      }
     ],
     "prompt_number": 24
    },
    {
     "cell_type": "code",
     "collapsed": false,
     "input": [
      "query.pages['http://nlp.stanford.edu/~manning/'].url"
     ],
     "language": "python",
     "metadata": {},
     "outputs": [
      {
       "output_type": "pyout",
       "prompt_number": 30,
       "text": [
        "'http://nlp.stanford.edu/~manning/'"
       ]
      }
     ],
     "prompt_number": 30
    },
    {
     "cell_type": "code",
     "collapsed": false,
     "input": [
      "from collections import Counter"
     ],
     "language": "python",
     "metadata": {},
     "outputs": [],
     "prompt_number": 31
    },
    {
     "cell_type": "code",
     "collapsed": false,
     "input": [
      "lines = [\"from collections import Counter\", \"from doc_utils import\"]"
     ],
     "language": "python",
     "metadata": {},
     "outputs": [],
     "prompt_number": 35
    },
    {
     "cell_type": "code",
     "collapsed": false,
     "input": [
      "tokens = set(reduce(lambda x,line: x+line.strip().split(),lines,[])) "
     ],
     "language": "python",
     "metadata": {},
     "outputs": [],
     "prompt_number": 43
    },
    {
     "cell_type": "code",
     "collapsed": false,
     "input": [
      "tokens"
     ],
     "language": "python",
     "metadata": {},
     "outputs": [
      {
       "output_type": "pyout",
       "prompt_number": 44,
       "text": [
        "set(['collections', 'Counter', 'from', 'doc_utils', 'import'])"
       ]
      }
     ],
     "prompt_number": 44
    },
    {
     "cell_type": "code",
     "collapsed": false,
     "input": [
      "d = Counter()"
     ],
     "language": "python",
     "metadata": {},
     "outputs": [],
     "prompt_number": 45
    },
    {
     "cell_type": "code",
     "collapsed": false,
     "input": [
      "for token in tokens: d[token] += 1"
     ],
     "language": "python",
     "metadata": {},
     "outputs": [],
     "prompt_number": 48
    },
    {
     "cell_type": "code",
     "collapsed": false,
     "input": [
      "d['from']"
     ],
     "language": "python",
     "metadata": {},
     "outputs": [
      {
       "output_type": "pyout",
       "prompt_number": 49,
       "text": [
        "1"
       ]
      }
     ],
     "prompt_number": 49
    },
    {
     "cell_type": "code",
     "collapsed": false,
     "input": [
      "1.2"
     ],
     "language": "python",
     "metadata": {},
     "outputs": [
      {
       "output_type": "pyout",
       "prompt_number": 50,
       "text": [
        "1.2"
       ]
      }
     ],
     "prompt_number": 50
    },
    {
     "cell_type": "code",
     "collapsed": false,
     "input": [
      "1/2"
     ],
     "language": "python",
     "metadata": {},
     "outputs": [
      {
       "output_type": "pyout",
       "prompt_number": 51,
       "text": [
        "0"
       ]
      }
     ],
     "prompt_number": 51
    },
    {
     "cell_type": "code",
     "collapsed": false,
     "input": [
      "1/2.0"
     ],
     "language": "python",
     "metadata": {},
     "outputs": [
      {
       "output_type": "pyout",
       "prompt_number": 52,
       "text": [
        "0.5"
       ]
      }
     ],
     "prompt_number": 52
    },
    {
     "cell_type": "code",
     "collapsed": false,
     "input": [
      "from collections import Counter\n",
      "import os\n",
      "\n",
      "class CorpusInfo(object):\n",
      "    def __init__(self,corpus_root_dir): # for Laplace smoothing\n",
      "        self.corpus_dir = corpus_root_dir\n",
      "        self.total_file_count = 1.0\n",
      "        self.df_counter = Counter()   # term -> doc_freq\n",
      "        \n",
      "    def compute_doc_freqs(self):\n",
      "        root = self.corpus_dir\n",
      "        for d in sorted(os.listdir(root)):\n",
      "          print >> sys.stderr, 'processing dir: ' + d\n",
      "          dir_name = os.path.join(root, d) \n",
      "          term_doc_list = []\n",
      "          \n",
      "          for f in sorted(os.listdir(dir_name)):\n",
      "            self.total_file_count += 1\n",
      "            \n",
      "            # Add 'dir/filename' to doc id dictionary\n",
      "            file_name = os.path.join(d, f)\n",
      "\n",
      "            fullpath = os.path.join(dir_name, f)\n",
      "            \n",
      "            with open(fullpath, 'r') as infile:\n",
      "                lines = [line for line in infile.readlines()]\n",
      "                tokens = set(reduce(lambda x,line: x+line.strip().split(),lines,[]))   \n",
      "                for token in tokens: self.df_counter[token] += 1\n",
      "    \n",
      "    def get_IDF(self,term):\n",
      "        return (self.df_counter[term]+1.0)/self.total_file_count # for Laplace smoothing\n"
     ],
     "language": "python",
     "metadata": {},
     "outputs": [],
     "prompt_number": 63
    },
    {
     "cell_type": "code",
     "collapsed": false,
     "input": [
      "corp = CorpusInfo('../../PA1/PA1/toy_example/data/')\n",
      "corp.compute_doc_freqs()"
     ],
     "language": "python",
     "metadata": {},
     "outputs": [
      {
       "output_type": "stream",
       "stream": "stderr",
       "text": [
        "processing dir: 0\n",
        "processing dir: 1\n",
        "processing dir: 2\n"
       ]
      }
     ],
     "prompt_number": 64
    },
    {
     "cell_type": "code",
     "collapsed": false,
     "input": [
      "for k in corp.df_counter: print k,corp.df_counter[k]"
     ],
     "language": "python",
     "metadata": {},
     "outputs": [
      {
       "output_type": "stream",
       "stream": "stdout",
       "text": [
        "good 1\n",
        "thank 2\n",
        "to 1\n",
        "later 1\n",
        ", 3\n",
        "how 2\n",
        "see 1\n",
        "hi 2\n",
        "are 2\n",
        "i'm 2\n",
        "bye 2\n",
        "fine 2\n",
        "you 5\n",
        "? 3\n"
       ]
      }
     ],
     "prompt_number": 66
    },
    {
     "cell_type": "code",
     "collapsed": false,
     "input": [
      "corp.total_file_count"
     ],
     "language": "python",
     "metadata": {},
     "outputs": [
      {
       "output_type": "pyout",
       "prompt_number": 67,
       "text": [
        "7.0"
       ]
      }
     ],
     "prompt_number": 67
    },
    {
     "cell_type": "code",
     "collapsed": false,
     "input": [
      "corp.get_IDF('aaaaaah')"
     ],
     "language": "python",
     "metadata": {},
     "outputs": [
      {
       "output_type": "pyout",
       "prompt_number": 69,
       "text": [
        "0.14285714285714285"
       ]
      }
     ],
     "prompt_number": 69
    },
    {
     "cell_type": "code",
     "collapsed": false,
     "input": [
      "1/7.0"
     ],
     "language": "python",
     "metadata": {},
     "outputs": [
      {
       "output_type": "pyout",
       "prompt_number": 71,
       "text": [
        "0.14285714285714285"
       ]
      }
     ],
     "prompt_number": 71
    },
    {
     "cell_type": "code",
     "collapsed": false,
     "input": [],
     "language": "python",
     "metadata": {},
     "outputs": []
    }
   ],
   "metadata": {}
  }
 ]
}