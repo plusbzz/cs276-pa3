{
 "metadata": {
  "name": "pa3_play"
 },
 "nbformat": 3,
 "nbformat_minor": 0,
 "worksheets": [
  {
   "cells": [
    {
     "cell_type": "code",
     "collapsed": false,
     "input": [
      "from rank0 import *\n",
      "from doc_utils import *"
     ],
     "language": "python",
     "metadata": {},
     "outputs": [],
     "prompt_number": 1
    },
    {
     "cell_type": "code",
     "collapsed": false,
     "input": [
      "(q,f) = extractFeatures(\"trainQD\")"
     ],
     "language": "python",
     "metadata": {},
     "outputs": [],
     "prompt_number": 23
    },
    {
     "cell_type": "code",
     "collapsed": false,
     "input": [
      "qry = 'stanford live'"
     ],
     "language": "python",
     "metadata": {},
     "outputs": [],
     "prompt_number": 26
    },
    {
     "cell_type": "code",
     "collapsed": false,
     "input": [
      "query = Query(qry,f[qry])"
     ],
     "language": "python",
     "metadata": {},
     "outputs": [],
     "prompt_number": 27
    },
    {
     "cell_type": "code",
     "collapsed": false,
     "input": [
      "query.pages"
     ],
     "language": "python",
     "metadata": {},
     "outputs": [
      {
       "output_type": "pyout",
       "prompt_number": 6,
       "text": [
        "{'http://math.stanford.edu/': <doc_utils.Page at 0x10227ed10>}"
       ]
      }
     ],
     "prompt_number": 6
    },
    {
     "cell_type": "code",
     "collapsed": false,
     "input": [
      "qp =query.pages['http://math.stanford.edu/']"
     ],
     "language": "python",
     "metadata": {},
     "outputs": [],
     "prompt_number": 7
    },
    {
     "cell_type": "code",
     "collapsed": false,
     "input": [
      "for a in qp.anchors: print a.text"
     ],
     "language": "python",
     "metadata": {},
     "outputs": [
      {
       "output_type": "stream",
       "stream": "stdout",
       "text": [
        "http math stanford edu\n",
        "stanford math department\n"
       ]
      }
     ],
     "prompt_number": 8
    },
    {
     "cell_type": "code",
     "collapsed": false,
     "input": [
      "qp.field_tf_vectors"
     ],
     "language": "python",
     "metadata": {},
     "outputs": [
      {
       "output_type": "pyout",
       "prompt_number": 9,
       "text": [
        "{'anchor': {'department': 0.035856573705179286,\n",
        "  'edu': 0.1752988047808765,\n",
        "  'http': 0.1752988047808765,\n",
        "  'math': 0.21115537848605578,\n",
        "  'stanford': 0.21115537848605578},\n",
        " 'body': {'2012': -3.832305758571839, 'stanford': -2.9160150266976834},\n",
        " 'header': {'department': 0.00398406374501992,\n",
        "  'in': 0.00398406374501992,\n",
        "  'latest': 0.00398406374501992,\n",
        "  'math': 0.00796812749003984,\n",
        "  'publications': 0.00398406374501992,\n",
        "  'stanford': 0.00398406374501992},\n",
        " 'title': {'department': 0.00398406374501992,\n",
        "  'mathematics': 0.00398406374501992,\n",
        "  'of': 0.00398406374501992,\n",
        "  'stanford': 0.00398406374501992,\n",
        "  'university': 0.00398406374501992},\n",
        " 'url': {'edu': 0.00398406374501992,\n",
        "  'http': 0.00398406374501992,\n",
        "  'math': 0.00398406374501992,\n",
        "  'stanford': 0.00398406374501992}}"
       ]
      }
     ],
     "prompt_number": 9
    },
    {
     "cell_type": "code",
     "collapsed": false,
     "input": [
      "qp."
     ],
     "language": "python",
     "metadata": {},
     "outputs": [
      {
       "output_type": "pyout",
       "prompt_number": 12,
       "text": [
        "251"
       ]
      }
     ],
     "prompt_number": 12
    },
    {
     "cell_type": "code",
     "collapsed": false,
     "input": [
      "words = reduce(lambda x,h: x+h.strip().lower().split(),qp.header,[])\n",
      "tf1=Document.compute_tf_norm_vector(words,1)\n",
      "words = qp.title.lower().strip().split() \n",
      "tf2=Document.compute_tf_norm_vector(words,1)\n",
      "tf1,tf2"
     ],
     "language": "python",
     "metadata": {},
     "outputs": [
      {
       "output_type": "pyout",
       "prompt_number": 17,
       "text": [
        "({'department': 1.0,\n",
        "  'in': 1.0,\n",
        "  'latest': 1.0,\n",
        "  'math': 2.0,\n",
        "  'publications': 1.0,\n",
        "  'stanford': 1.0},\n",
        " {'department': 1.0,\n",
        "  'mathematics': 1.0,\n",
        "  'of': 1.0,\n",
        "  'stanford': 1.0,\n",
        "  'university': 1.0})"
       ]
      }
     ],
     "prompt_number": 17
    },
    {
     "cell_type": "code",
     "collapsed": false,
     "input": [
      "Document.cosine_sim(tf1,tf2)"
     ],
     "language": "python",
     "metadata": {},
     "outputs": [
      {
       "output_type": "pyout",
       "prompt_number": 22,
       "text": [
        "0.05714285714285714"
       ]
      }
     ],
     "prompt_number": 22
    },
    {
     "cell_type": "code",
     "collapsed": false,
     "input": [
      "2/35.0"
     ],
     "language": "python",
     "metadata": {},
     "outputs": [
      {
       "output_type": "pyout",
       "prompt_number": 21,
       "text": [
        "0.05714285714285714"
       ]
      }
     ],
     "prompt_number": 21
    },
    {
     "cell_type": "code",
     "collapsed": false,
     "input": [],
     "language": "python",
     "metadata": {},
     "outputs": []
    }
   ],
   "metadata": {}
  }
 ]
}